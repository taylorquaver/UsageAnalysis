{
 "cells": [
  {
   "cell_type": "code",
   "execution_count": 1,
   "metadata": {},
   "outputs": [],
   "source": [
    "import pandas as pd\n",
    "import matplotlib.pyplot as plt\n",
    "import seaborn as sns\n",
    "%matplotlib inline\n",
    "sns.set_style('darkgrid')"
   ]
  },
  {
   "cell_type": "markdown",
   "metadata": {},
   "source": [
    "### Load the spreadsheets"
   ]
  },
  {
   "cell_type": "code",
   "execution_count": 2,
   "metadata": {},
   "outputs": [],
   "source": [
    "# Load each sheet\n",
    "august = pd.read_excel('usage_fall19.xlsx', sheet_name='AUG 2019')\n",
    "september = pd.read_excel('usage_fall19.xlsx', sheet_name='SEPT 2019')\n",
    "october = pd.read_excel('usage_fall19.xlsx', sheet_name='OCT 2019, pulled 10.15.19')"
   ]
  },
  {
   "cell_type": "code",
   "execution_count": 3,
   "metadata": {},
   "outputs": [],
   "source": [
    "# Update some of the column names\n",
    "august.rename(columns={'Teacher Resource Usage': 'reg_usage', 'Other Usage': 'other_usage'}, inplace=True)\n",
    "september.rename(columns={'Teacher Resource Usage': 'reg_usage', 'Other Usage': 'other_usage'}, inplace=True)\n",
    "october.rename(columns={'Teacher Resource Usage': 'reg_usage', 'Other Usage': 'other_usage'}, inplace=True)"
   ]
  },
  {
   "cell_type": "code",
   "execution_count": 4,
   "metadata": {},
   "outputs": [],
   "source": [
    "# Change all dashes for usage into zeros\n",
    "august.replace('--', '0', inplace=True)\n",
    "september.replace('--', '0', inplace=True)\n",
    "october.replace('--', '0', inplace=True)"
   ]
  },
  {
   "cell_type": "code",
   "execution_count": 5,
   "metadata": {},
   "outputs": [],
   "source": [
    "# Convert usage numbers from string to integer\n",
    "august[['reg_usage', 'other_usage']] = august[['reg_usage', 'other_usage']].astype('int64')\n",
    "september[['reg_usage', 'other_usage']] = september[['reg_usage', 'other_usage']].astype('int64') \n",
    "october[['reg_usage', 'other_usage']] = october[['reg_usage', 'other_usage']].astype('int64') "
   ]
  },
  {
   "cell_type": "code",
   "execution_count": 6,
   "metadata": {},
   "outputs": [
    {
     "name": "stdout",
     "output_type": "stream",
     "text": [
      "august shape:  (11283, 17)\n",
      "september shape:  (11283, 17)\n",
      "october shape:  (11301, 17)\n"
     ]
    }
   ],
   "source": [
    "print('august shape: ', august.shape)\n",
    "print('september shape: ', september.shape)\n",
    "print('october shape: ', october.shape)"
   ]
  },
  {
   "cell_type": "markdown",
   "metadata": {},
   "source": [
    "### Initial glance"
   ]
  },
  {
   "cell_type": "code",
   "execution_count": 7,
   "metadata": {},
   "outputs": [
    {
     "data": {
      "text/html": [
       "<div>\n",
       "<style scoped>\n",
       "    .dataframe tbody tr th:only-of-type {\n",
       "        vertical-align: middle;\n",
       "    }\n",
       "\n",
       "    .dataframe tbody tr th {\n",
       "        vertical-align: top;\n",
       "    }\n",
       "\n",
       "    .dataframe thead th {\n",
       "        text-align: right;\n",
       "    }\n",
       "</style>\n",
       "<table border=\"1\" class=\"dataframe\">\n",
       "  <thead>\n",
       "    <tr style=\"text-align: right;\">\n",
       "      <th></th>\n",
       "      <th>reg_usage</th>\n",
       "    </tr>\n",
       "  </thead>\n",
       "  <tbody>\n",
       "    <tr>\n",
       "      <td>count</td>\n",
       "      <td>11283.000000</td>\n",
       "    </tr>\n",
       "    <tr>\n",
       "      <td>mean</td>\n",
       "      <td>47.693255</td>\n",
       "    </tr>\n",
       "    <tr>\n",
       "      <td>std</td>\n",
       "      <td>82.361206</td>\n",
       "    </tr>\n",
       "    <tr>\n",
       "      <td>min</td>\n",
       "      <td>0.000000</td>\n",
       "    </tr>\n",
       "    <tr>\n",
       "      <td>25%</td>\n",
       "      <td>0.000000</td>\n",
       "    </tr>\n",
       "    <tr>\n",
       "      <td>50%</td>\n",
       "      <td>11.000000</td>\n",
       "    </tr>\n",
       "    <tr>\n",
       "      <td>75%</td>\n",
       "      <td>67.000000</td>\n",
       "    </tr>\n",
       "    <tr>\n",
       "      <td>max</td>\n",
       "      <td>2995.000000</td>\n",
       "    </tr>\n",
       "  </tbody>\n",
       "</table>\n",
       "</div>"
      ],
      "text/plain": [
       "          reg_usage\n",
       "count  11283.000000\n",
       "mean      47.693255\n",
       "std       82.361206\n",
       "min        0.000000\n",
       "25%        0.000000\n",
       "50%       11.000000\n",
       "75%       67.000000\n",
       "max     2995.000000"
      ]
     },
     "execution_count": 7,
     "metadata": {},
     "output_type": "execute_result"
    }
   ],
   "source": [
    "august[['reg_usage']].describe()"
   ]
  },
  {
   "cell_type": "code",
   "execution_count": 8,
   "metadata": {},
   "outputs": [
    {
     "data": {
      "text/html": [
       "<div>\n",
       "<style scoped>\n",
       "    .dataframe tbody tr th:only-of-type {\n",
       "        vertical-align: middle;\n",
       "    }\n",
       "\n",
       "    .dataframe tbody tr th {\n",
       "        vertical-align: top;\n",
       "    }\n",
       "\n",
       "    .dataframe thead th {\n",
       "        text-align: right;\n",
       "    }\n",
       "</style>\n",
       "<table border=\"1\" class=\"dataframe\">\n",
       "  <thead>\n",
       "    <tr style=\"text-align: right;\">\n",
       "      <th></th>\n",
       "      <th>reg_usage</th>\n",
       "    </tr>\n",
       "  </thead>\n",
       "  <tbody>\n",
       "    <tr>\n",
       "      <td>count</td>\n",
       "      <td>11283.000000</td>\n",
       "    </tr>\n",
       "    <tr>\n",
       "      <td>mean</td>\n",
       "      <td>95.272179</td>\n",
       "    </tr>\n",
       "    <tr>\n",
       "      <td>std</td>\n",
       "      <td>122.534036</td>\n",
       "    </tr>\n",
       "    <tr>\n",
       "      <td>min</td>\n",
       "      <td>0.000000</td>\n",
       "    </tr>\n",
       "    <tr>\n",
       "      <td>25%</td>\n",
       "      <td>0.000000</td>\n",
       "    </tr>\n",
       "    <tr>\n",
       "      <td>50%</td>\n",
       "      <td>55.000000</td>\n",
       "    </tr>\n",
       "    <tr>\n",
       "      <td>75%</td>\n",
       "      <td>149.000000</td>\n",
       "    </tr>\n",
       "    <tr>\n",
       "      <td>max</td>\n",
       "      <td>2630.000000</td>\n",
       "    </tr>\n",
       "  </tbody>\n",
       "</table>\n",
       "</div>"
      ],
      "text/plain": [
       "          reg_usage\n",
       "count  11283.000000\n",
       "mean      95.272179\n",
       "std      122.534036\n",
       "min        0.000000\n",
       "25%        0.000000\n",
       "50%       55.000000\n",
       "75%      149.000000\n",
       "max     2630.000000"
      ]
     },
     "execution_count": 8,
     "metadata": {},
     "output_type": "execute_result"
    }
   ],
   "source": [
    "september[['reg_usage']].describe()"
   ]
  },
  {
   "cell_type": "code",
   "execution_count": 10,
   "metadata": {},
   "outputs": [
    {
     "data": {
      "text/html": [
       "<div>\n",
       "<style scoped>\n",
       "    .dataframe tbody tr th:only-of-type {\n",
       "        vertical-align: middle;\n",
       "    }\n",
       "\n",
       "    .dataframe tbody tr th {\n",
       "        vertical-align: top;\n",
       "    }\n",
       "\n",
       "    .dataframe thead th {\n",
       "        text-align: right;\n",
       "    }\n",
       "</style>\n",
       "<table border=\"1\" class=\"dataframe\">\n",
       "  <thead>\n",
       "    <tr style=\"text-align: right;\">\n",
       "      <th></th>\n",
       "      <th>reg_usage</th>\n",
       "    </tr>\n",
       "  </thead>\n",
       "  <tbody>\n",
       "    <tr>\n",
       "      <td>count</td>\n",
       "      <td>11301.000000</td>\n",
       "    </tr>\n",
       "    <tr>\n",
       "      <td>mean</td>\n",
       "      <td>45.089461</td>\n",
       "    </tr>\n",
       "    <tr>\n",
       "      <td>std</td>\n",
       "      <td>63.635517</td>\n",
       "    </tr>\n",
       "    <tr>\n",
       "      <td>min</td>\n",
       "      <td>0.000000</td>\n",
       "    </tr>\n",
       "    <tr>\n",
       "      <td>25%</td>\n",
       "      <td>0.000000</td>\n",
       "    </tr>\n",
       "    <tr>\n",
       "      <td>50%</td>\n",
       "      <td>21.000000</td>\n",
       "    </tr>\n",
       "    <tr>\n",
       "      <td>75%</td>\n",
       "      <td>69.000000</td>\n",
       "    </tr>\n",
       "    <tr>\n",
       "      <td>max</td>\n",
       "      <td>992.000000</td>\n",
       "    </tr>\n",
       "  </tbody>\n",
       "</table>\n",
       "</div>"
      ],
      "text/plain": [
       "          reg_usage\n",
       "count  11301.000000\n",
       "mean      45.089461\n",
       "std       63.635517\n",
       "min        0.000000\n",
       "25%        0.000000\n",
       "50%       21.000000\n",
       "75%       69.000000\n",
       "max      992.000000"
      ]
     },
     "execution_count": 10,
     "metadata": {},
     "output_type": "execute_result"
    }
   ],
   "source": [
    "october[['reg_usage']].describe()"
   ]
  },
  {
   "cell_type": "code",
   "execution_count": 11,
   "metadata": {},
   "outputs": [
    {
     "data": {
      "image/png": "[encoded data removed]",
      "text/plain": [
       "<Figure size 1008x576 with 1 Axes>"
      ]
     },
     "metadata": {
      "needs_background": "light"
     },
     "output_type": "display_data"
    }
   ],
   "source": [
    "fig = plt.subplots(figsize = (14,8))\n",
    "\n",
    "_ = sns.distplot(august.reg_usage, hist=False, label='August', kde_kws={'lw': 4})\n",
    "_ = sns.distplot(september.reg_usage, hist=False, label='September', kde_kws={'lw': 4})\n",
    "_ = sns.distplot(october.reg_usage, hist=False, label='October', kde_kws={'lw': 4})\n",
    "_ = plt.xlabel('Regular usage by user', fontsize=16)\n",
    "_ = plt.ylabel('Proportion of users', fontsize=16)\n",
    "_ = plt.xlim(-2,1000)\n",
    "_ = plt.title('Usage comparison for all three months', fontsize=18)\n",
    "_ = plt.legend(fontsize=14)"
   ]
  },
  {
   "cell_type": "markdown",
   "metadata": {},
   "source": [
    "It's important to note that the figures for October only cover half the month."
   ]
  },
  {
   "cell_type": "markdown",
   "metadata": {},
   "source": [
    "### Grouping"
   ]
  },
  {
   "cell_type": "code",
   "execution_count": 12,
   "metadata": {},
   "outputs": [],
   "source": [
    "august['state'].fillna('undefined', inplace=True)\n",
    "september['state'].fillna('undefined', inplace=True)\n",
    "october['state'].fillna('undefined', inplace=True)"
   ]
  },
  {
   "cell_type": "code",
   "execution_count": 13,
   "metadata": {},
   "outputs": [],
   "source": [
    "# no_states = august[august.state.isna()]\n",
    "# print(no_states['district_name'].to_string())"
   ]
  },
  {
   "cell_type": "code",
   "execution_count": 14,
   "metadata": {},
   "outputs": [
    {
     "data": {
      "text/plain": [
       "Index(['user_id', 'username', 'people_id', 'person', 'email', 'school(s)',\n",
       "       'daysLoggedIn', 'weekdaysLoggedIn', 'reg_usage', 'other_usage',\n",
       "       'license_district', 'order_district', 'district_name', 'state', 'rep',\n",
       "       'order(s)', 'products'],\n",
       "      dtype='object')"
      ]
     },
     "execution_count": 14,
     "metadata": {},
     "output_type": "execute_result"
    }
   ],
   "source": [
    "august.columns"
   ]
  },
  {
   "cell_type": "code",
   "execution_count": 17,
   "metadata": {},
   "outputs": [],
   "source": [
    "august['user_count'] = august.groupby('district_name')['district_name'].transform('count')"
   ]
  },
  {
   "cell_type": "code",
   "execution_count": 28,
   "metadata": {},
   "outputs": [],
   "source": [
    "#august.tail()"
   ]
  },
  {
   "cell_type": "code",
   "execution_count": 25,
   "metadata": {},
   "outputs": [],
   "source": [
    "desc = august.groupby('district_name')['reg_usage'].describe()"
   ]
  },
  {
   "cell_type": "code",
   "execution_count": 27,
   "metadata": {},
   "outputs": [
    {
     "data": {
      "text/html": [
       "<div>\n",
       "<style scoped>\n",
       "    .dataframe tbody tr th:only-of-type {\n",
       "        vertical-align: middle;\n",
       "    }\n",
       "\n",
       "    .dataframe tbody tr th {\n",
       "        vertical-align: top;\n",
       "    }\n",
       "\n",
       "    .dataframe thead th {\n",
       "        text-align: right;\n",
       "    }\n",
       "</style>\n",
       "<table border=\"1\" class=\"dataframe\">\n",
       "  <thead>\n",
       "    <tr style=\"text-align: right;\">\n",
       "      <th></th>\n",
       "      <th>count</th>\n",
       "      <th>mean</th>\n",
       "      <th>std</th>\n",
       "      <th>min</th>\n",
       "      <th>25%</th>\n",
       "      <th>50%</th>\n",
       "      <th>75%</th>\n",
       "      <th>max</th>\n",
       "    </tr>\n",
       "    <tr>\n",
       "      <th>district_name</th>\n",
       "      <th></th>\n",
       "      <th></th>\n",
       "      <th></th>\n",
       "      <th></th>\n",
       "      <th></th>\n",
       "      <th></th>\n",
       "      <th></th>\n",
       "      <th></th>\n",
       "    </tr>\n",
       "  </thead>\n",
       "  <tbody>\n",
       "    <tr>\n",
       "      <td>Miami-Dade County Public School District</td>\n",
       "      <td>564.0</td>\n",
       "      <td>1.964539</td>\n",
       "      <td>17.143076</td>\n",
       "      <td>0.0</td>\n",
       "      <td>0.0</td>\n",
       "      <td>0.0</td>\n",
       "      <td>0.00</td>\n",
       "      <td>354.0</td>\n",
       "    </tr>\n",
       "    <tr>\n",
       "      <td>PALMDALE ELEMENTARY SCHOOL DISTRICT</td>\n",
       "      <td>282.0</td>\n",
       "      <td>11.226950</td>\n",
       "      <td>17.490361</td>\n",
       "      <td>0.0</td>\n",
       "      <td>0.0</td>\n",
       "      <td>4.0</td>\n",
       "      <td>16.75</td>\n",
       "      <td>129.0</td>\n",
       "    </tr>\n",
       "    <tr>\n",
       "      <td>PRINCE GEORGE'S COUNTY PUBLIC SCHOOLS</td>\n",
       "      <td>241.0</td>\n",
       "      <td>6.481328</td>\n",
       "      <td>14.452821</td>\n",
       "      <td>0.0</td>\n",
       "      <td>0.0</td>\n",
       "      <td>0.0</td>\n",
       "      <td>6.00</td>\n",
       "      <td>85.0</td>\n",
       "    </tr>\n",
       "    <tr>\n",
       "      <td>DALLAS ISD</td>\n",
       "      <td>224.0</td>\n",
       "      <td>39.017857</td>\n",
       "      <td>61.230357</td>\n",
       "      <td>0.0</td>\n",
       "      <td>0.0</td>\n",
       "      <td>10.0</td>\n",
       "      <td>56.25</td>\n",
       "      <td>512.0</td>\n",
       "    </tr>\n",
       "    <tr>\n",
       "      <td>HOUSTON ISD</td>\n",
       "      <td>197.0</td>\n",
       "      <td>34.360406</td>\n",
       "      <td>61.592945</td>\n",
       "      <td>0.0</td>\n",
       "      <td>0.0</td>\n",
       "      <td>7.0</td>\n",
       "      <td>43.00</td>\n",
       "      <td>330.0</td>\n",
       "    </tr>\n",
       "    <tr>\n",
       "      <td>...</td>\n",
       "      <td>...</td>\n",
       "      <td>...</td>\n",
       "      <td>...</td>\n",
       "      <td>...</td>\n",
       "      <td>...</td>\n",
       "      <td>...</td>\n",
       "      <td>...</td>\n",
       "      <td>...</td>\n",
       "    </tr>\n",
       "    <tr>\n",
       "      <td>CUBA-RUSHFORD CENTRAL SCHOOL DISTRICT</td>\n",
       "      <td>1.0</td>\n",
       "      <td>4.000000</td>\n",
       "      <td>NaN</td>\n",
       "      <td>4.0</td>\n",
       "      <td>4.0</td>\n",
       "      <td>4.0</td>\n",
       "      <td>4.00</td>\n",
       "      <td>4.0</td>\n",
       "    </tr>\n",
       "    <tr>\n",
       "      <td>NEWPORT SCHOOL DISTRICT</td>\n",
       "      <td>1.0</td>\n",
       "      <td>0.000000</td>\n",
       "      <td>NaN</td>\n",
       "      <td>0.0</td>\n",
       "      <td>0.0</td>\n",
       "      <td>0.0</td>\n",
       "      <td>0.00</td>\n",
       "      <td>0.0</td>\n",
       "    </tr>\n",
       "    <tr>\n",
       "      <td>NEWTON COUNTY SCHOOL DISTRICT</td>\n",
       "      <td>1.0</td>\n",
       "      <td>137.000000</td>\n",
       "      <td>NaN</td>\n",
       "      <td>137.0</td>\n",
       "      <td>137.0</td>\n",
       "      <td>137.0</td>\n",
       "      <td>137.00</td>\n",
       "      <td>137.0</td>\n",
       "    </tr>\n",
       "    <tr>\n",
       "      <td>NEWTON LOCAL</td>\n",
       "      <td>1.0</td>\n",
       "      <td>0.000000</td>\n",
       "      <td>NaN</td>\n",
       "      <td>0.0</td>\n",
       "      <td>0.0</td>\n",
       "      <td>0.0</td>\n",
       "      <td>0.00</td>\n",
       "      <td>0.0</td>\n",
       "    </tr>\n",
       "    <tr>\n",
       "      <td>(Other)</td>\n",
       "      <td>1.0</td>\n",
       "      <td>337.000000</td>\n",
       "      <td>NaN</td>\n",
       "      <td>337.0</td>\n",
       "      <td>337.0</td>\n",
       "      <td>337.0</td>\n",
       "      <td>337.00</td>\n",
       "      <td>337.0</td>\n",
       "    </tr>\n",
       "  </tbody>\n",
       "</table>\n",
       "<p>1796 rows × 8 columns</p>\n",
       "</div>"
      ],
      "text/plain": [
       "                                          count        mean        std    min  \\\n",
       "district_name                                                                   \n",
       "Miami-Dade County Public School District  564.0    1.964539  17.143076    0.0   \n",
       "PALMDALE ELEMENTARY SCHOOL DISTRICT       282.0   11.226950  17.490361    0.0   \n",
       "PRINCE GEORGE'S COUNTY PUBLIC SCHOOLS     241.0    6.481328  14.452821    0.0   \n",
       "DALLAS ISD                                224.0   39.017857  61.230357    0.0   \n",
       "HOUSTON ISD                               197.0   34.360406  61.592945    0.0   \n",
       "...                                         ...         ...        ...    ...   \n",
       "CUBA-RUSHFORD CENTRAL SCHOOL DISTRICT       1.0    4.000000        NaN    4.0   \n",
       "NEWPORT SCHOOL DISTRICT                     1.0    0.000000        NaN    0.0   \n",
       "NEWTON COUNTY SCHOOL DISTRICT               1.0  137.000000        NaN  137.0   \n",
       "NEWTON LOCAL                                1.0    0.000000        NaN    0.0   \n",
       "(Other)                                     1.0  337.000000        NaN  337.0   \n",
       "\n",
       "                                            25%    50%     75%    max  \n",
       "district_name                                                          \n",
       "Miami-Dade County Public School District    0.0    0.0    0.00  354.0  \n",
       "PALMDALE ELEMENTARY SCHOOL DISTRICT         0.0    4.0   16.75  129.0  \n",
       "PRINCE GEORGE'S COUNTY PUBLIC SCHOOLS       0.0    0.0    6.00   85.0  \n",
       "DALLAS ISD                                  0.0   10.0   56.25  512.0  \n",
       "HOUSTON ISD                                 0.0    7.0   43.00  330.0  \n",
       "...                                         ...    ...     ...    ...  \n",
       "CUBA-RUSHFORD CENTRAL SCHOOL DISTRICT       4.0    4.0    4.00    4.0  \n",
       "NEWPORT SCHOOL DISTRICT                     0.0    0.0    0.00    0.0  \n",
       "NEWTON COUNTY SCHOOL DISTRICT             137.0  137.0  137.00  137.0  \n",
       "NEWTON LOCAL                                0.0    0.0    0.00    0.0  \n",
       "(Other)                                   337.0  337.0  337.00  337.0  \n",
       "\n",
       "[1796 rows x 8 columns]"
      ]
     },
     "execution_count": 27,
     "metadata": {},
     "output_type": "execute_result"
    }
   ],
   "source": [
    "pd.DataFrame(desc).sort_values('count', ascending=False)"
   ]
  },
  {
   "cell_type": "markdown",
   "metadata": {},
   "source": [
    "### September"
   ]
  },
  {
   "cell_type": "markdown",
   "metadata": {},
   "source": [
    "Focusing on the month of September, likely the only month here with complete data."
   ]
  },
  {
   "cell_type": "code",
   "execution_count": 74,
   "metadata": {},
   "outputs": [],
   "source": [
    "september['distr_st_rep'] = september['rep'] + '-' + september['state'] + '-' + september['district_name']"
   ]
  },
  {
   "cell_type": "code",
   "execution_count": 75,
   "metadata": {},
   "outputs": [],
   "source": [
    "s_desc = september.groupby('distr_st_rep')['reg_usage'].describe()\n",
    "sept_stats = pd.DataFrame(s_desc).sort_values('count', ascending=False)"
   ]
  },
  {
   "cell_type": "code",
   "execution_count": 76,
   "metadata": {
    "scrolled": false
   },
   "outputs": [
    {
     "data": {
      "text/html": [
       "<div>\n",
       "<style scoped>\n",
       "    .dataframe tbody tr th:only-of-type {\n",
       "        vertical-align: middle;\n",
       "    }\n",
       "\n",
       "    .dataframe tbody tr th {\n",
       "        vertical-align: top;\n",
       "    }\n",
       "\n",
       "    .dataframe thead th {\n",
       "        text-align: right;\n",
       "    }\n",
       "</style>\n",
       "<table border=\"1\" class=\"dataframe\">\n",
       "  <thead>\n",
       "    <tr style=\"text-align: right;\">\n",
       "      <th></th>\n",
       "      <th>count</th>\n",
       "      <th>mean</th>\n",
       "      <th>std</th>\n",
       "      <th>min</th>\n",
       "      <th>25%</th>\n",
       "      <th>50%</th>\n",
       "      <th>75%</th>\n",
       "      <th>max</th>\n",
       "    </tr>\n",
       "    <tr>\n",
       "      <th>distr_st_rep</th>\n",
       "      <th></th>\n",
       "      <th></th>\n",
       "      <th></th>\n",
       "      <th></th>\n",
       "      <th></th>\n",
       "      <th></th>\n",
       "      <th></th>\n",
       "      <th></th>\n",
       "    </tr>\n",
       "  </thead>\n",
       "  <tbody>\n",
       "    <tr>\n",
       "      <td>Smith-FL-Miami-Dade County Public School District</td>\n",
       "      <td>564.0</td>\n",
       "      <td>2.762411</td>\n",
       "      <td>21.918149</td>\n",
       "      <td>0.0</td>\n",
       "      <td>0.0</td>\n",
       "      <td>0.0</td>\n",
       "      <td>0.0</td>\n",
       "      <td>393.0</td>\n",
       "    </tr>\n",
       "    <tr>\n",
       "      <td>Borland-CA-PALMDALE ELEMENTARY SCHOOL DISTRICT</td>\n",
       "      <td>282.0</td>\n",
       "      <td>3.276596</td>\n",
       "      <td>7.710146</td>\n",
       "      <td>0.0</td>\n",
       "      <td>0.0</td>\n",
       "      <td>0.0</td>\n",
       "      <td>2.0</td>\n",
       "      <td>57.0</td>\n",
       "    </tr>\n",
       "    <tr>\n",
       "      <td>Maddox-MD-PRINCE GEORGE'S COUNTY PUBLIC SCHOOLS</td>\n",
       "      <td>241.0</td>\n",
       "      <td>72.443983</td>\n",
       "      <td>100.984683</td>\n",
       "      <td>0.0</td>\n",
       "      <td>0.0</td>\n",
       "      <td>23.0</td>\n",
       "      <td>115.0</td>\n",
       "      <td>560.0</td>\n",
       "    </tr>\n",
       "    <tr>\n",
       "      <td>Phillips-TX-DALLAS ISD</td>\n",
       "      <td>224.0</td>\n",
       "      <td>85.258929</td>\n",
       "      <td>118.546901</td>\n",
       "      <td>0.0</td>\n",
       "      <td>0.0</td>\n",
       "      <td>34.0</td>\n",
       "      <td>123.5</td>\n",
       "      <td>621.0</td>\n",
       "    </tr>\n",
       "    <tr>\n",
       "      <td>Phillips-TX-HOUSTON ISD</td>\n",
       "      <td>197.0</td>\n",
       "      <td>104.020305</td>\n",
       "      <td>160.343189</td>\n",
       "      <td>0.0</td>\n",
       "      <td>0.0</td>\n",
       "      <td>28.0</td>\n",
       "      <td>166.0</td>\n",
       "      <td>1120.0</td>\n",
       "    </tr>\n",
       "    <tr>\n",
       "      <td>...</td>\n",
       "      <td>...</td>\n",
       "      <td>...</td>\n",
       "      <td>...</td>\n",
       "      <td>...</td>\n",
       "      <td>...</td>\n",
       "      <td>...</td>\n",
       "      <td>...</td>\n",
       "      <td>...</td>\n",
       "    </tr>\n",
       "    <tr>\n",
       "      <td>Roman-FL-ST. JOHNS</td>\n",
       "      <td>1.0</td>\n",
       "      <td>272.000000</td>\n",
       "      <td>NaN</td>\n",
       "      <td>272.0</td>\n",
       "      <td>272.0</td>\n",
       "      <td>272.0</td>\n",
       "      <td>272.0</td>\n",
       "      <td>272.0</td>\n",
       "    </tr>\n",
       "    <tr>\n",
       "      <td>Maus-NE-GILTNER PUBLIC SCHOOLS</td>\n",
       "      <td>1.0</td>\n",
       "      <td>145.000000</td>\n",
       "      <td>NaN</td>\n",
       "      <td>145.0</td>\n",
       "      <td>145.0</td>\n",
       "      <td>145.0</td>\n",
       "      <td>145.0</td>\n",
       "      <td>145.0</td>\n",
       "    </tr>\n",
       "    <tr>\n",
       "      <td>Maddox-OH-BUCKEYE CENTRAL LOCAL</td>\n",
       "      <td>1.0</td>\n",
       "      <td>227.000000</td>\n",
       "      <td>NaN</td>\n",
       "      <td>227.0</td>\n",
       "      <td>227.0</td>\n",
       "      <td>227.0</td>\n",
       "      <td>227.0</td>\n",
       "      <td>227.0</td>\n",
       "    </tr>\n",
       "    <tr>\n",
       "      <td>Roman-NJ-ALPINE</td>\n",
       "      <td>1.0</td>\n",
       "      <td>134.000000</td>\n",
       "      <td>NaN</td>\n",
       "      <td>134.0</td>\n",
       "      <td>134.0</td>\n",
       "      <td>134.0</td>\n",
       "      <td>134.0</td>\n",
       "      <td>134.0</td>\n",
       "    </tr>\n",
       "    <tr>\n",
       "      <td>Maus-WI-MUKWONAGO SCHOOL DISTRICT</td>\n",
       "      <td>1.0</td>\n",
       "      <td>44.000000</td>\n",
       "      <td>NaN</td>\n",
       "      <td>44.0</td>\n",
       "      <td>44.0</td>\n",
       "      <td>44.0</td>\n",
       "      <td>44.0</td>\n",
       "      <td>44.0</td>\n",
       "    </tr>\n",
       "  </tbody>\n",
       "</table>\n",
       "<p>1806 rows × 8 columns</p>\n",
       "</div>"
      ],
      "text/plain": [
       "                                                   count        mean  \\\n",
       "distr_st_rep                                                           \n",
       "Smith-FL-Miami-Dade County Public School District  564.0    2.762411   \n",
       "Borland-CA-PALMDALE ELEMENTARY SCHOOL DISTRICT     282.0    3.276596   \n",
       "Maddox-MD-PRINCE GEORGE'S COUNTY PUBLIC SCHOOLS    241.0   72.443983   \n",
       "Phillips-TX-DALLAS ISD                             224.0   85.258929   \n",
       "Phillips-TX-HOUSTON ISD                            197.0  104.020305   \n",
       "...                                                  ...         ...   \n",
       "Roman-FL-ST. JOHNS                                   1.0  272.000000   \n",
       "Maus-NE-GILTNER PUBLIC SCHOOLS                       1.0  145.000000   \n",
       "Maddox-OH-BUCKEYE CENTRAL LOCAL                      1.0  227.000000   \n",
       "Roman-NJ-ALPINE                                      1.0  134.000000   \n",
       "Maus-WI-MUKWONAGO SCHOOL DISTRICT                    1.0   44.000000   \n",
       "\n",
       "                                                          std    min    25%  \\\n",
       "distr_st_rep                                                                  \n",
       "Smith-FL-Miami-Dade County Public School District   21.918149    0.0    0.0   \n",
       "Borland-CA-PALMDALE ELEMENTARY SCHOOL DISTRICT       7.710146    0.0    0.0   \n",
       "Maddox-MD-PRINCE GEORGE'S COUNTY PUBLIC SCHOOLS    100.984683    0.0    0.0   \n",
       "Phillips-TX-DALLAS ISD                             118.546901    0.0    0.0   \n",
       "Phillips-TX-HOUSTON ISD                            160.343189    0.0    0.0   \n",
       "...                                                       ...    ...    ...   \n",
       "Roman-FL-ST. JOHNS                                        NaN  272.0  272.0   \n",
       "Maus-NE-GILTNER PUBLIC SCHOOLS                            NaN  145.0  145.0   \n",
       "Maddox-OH-BUCKEYE CENTRAL LOCAL                           NaN  227.0  227.0   \n",
       "Roman-NJ-ALPINE                                           NaN  134.0  134.0   \n",
       "Maus-WI-MUKWONAGO SCHOOL DISTRICT                         NaN   44.0   44.0   \n",
       "\n",
       "                                                     50%    75%     max  \n",
       "distr_st_rep                                                             \n",
       "Smith-FL-Miami-Dade County Public School District    0.0    0.0   393.0  \n",
       "Borland-CA-PALMDALE ELEMENTARY SCHOOL DISTRICT       0.0    2.0    57.0  \n",
       "Maddox-MD-PRINCE GEORGE'S COUNTY PUBLIC SCHOOLS     23.0  115.0   560.0  \n",
       "Phillips-TX-DALLAS ISD                              34.0  123.5   621.0  \n",
       "Phillips-TX-HOUSTON ISD                             28.0  166.0  1120.0  \n",
       "...                                                  ...    ...     ...  \n",
       "Roman-FL-ST. JOHNS                                 272.0  272.0   272.0  \n",
       "Maus-NE-GILTNER PUBLIC SCHOOLS                     145.0  145.0   145.0  \n",
       "Maddox-OH-BUCKEYE CENTRAL LOCAL                    227.0  227.0   227.0  \n",
       "Roman-NJ-ALPINE                                    134.0  134.0   134.0  \n",
       "Maus-WI-MUKWONAGO SCHOOL DISTRICT                   44.0   44.0    44.0  \n",
       "\n",
       "[1806 rows x 8 columns]"
      ]
     },
     "execution_count": 76,
     "metadata": {},
     "output_type": "execute_result"
    }
   ],
   "source": [
    "sept_stats"
   ]
  },
  {
   "cell_type": "code",
   "execution_count": 77,
   "metadata": {},
   "outputs": [],
   "source": [
    "sept_stats['above_avg'] = 'n'"
   ]
  },
  {
   "cell_type": "code",
   "execution_count": 78,
   "metadata": {},
   "outputs": [],
   "source": [
    "sept_stats.loc[sept_stats['mean'] >= 95.272179, 'above_avg'] = 'y'"
   ]
  },
  {
   "cell_type": "code",
   "execution_count": 79,
   "metadata": {},
   "outputs": [
    {
     "data": {
      "text/html": [
       "<div>\n",
       "<style scoped>\n",
       "    .dataframe tbody tr th:only-of-type {\n",
       "        vertical-align: middle;\n",
       "    }\n",
       "\n",
       "    .dataframe tbody tr th {\n",
       "        vertical-align: top;\n",
       "    }\n",
       "\n",
       "    .dataframe thead th {\n",
       "        text-align: right;\n",
       "    }\n",
       "</style>\n",
       "<table border=\"1\" class=\"dataframe\">\n",
       "  <thead>\n",
       "    <tr style=\"text-align: right;\">\n",
       "      <th></th>\n",
       "      <th>count</th>\n",
       "      <th>mean</th>\n",
       "      <th>std</th>\n",
       "      <th>min</th>\n",
       "      <th>25%</th>\n",
       "      <th>50%</th>\n",
       "      <th>75%</th>\n",
       "      <th>max</th>\n",
       "      <th>above_avg</th>\n",
       "    </tr>\n",
       "    <tr>\n",
       "      <th>distr_st_rep</th>\n",
       "      <th></th>\n",
       "      <th></th>\n",
       "      <th></th>\n",
       "      <th></th>\n",
       "      <th></th>\n",
       "      <th></th>\n",
       "      <th></th>\n",
       "      <th></th>\n",
       "      <th></th>\n",
       "    </tr>\n",
       "  </thead>\n",
       "  <tbody>\n",
       "    <tr>\n",
       "      <td>Smith-FL-Miami-Dade County Public School District</td>\n",
       "      <td>564.0</td>\n",
       "      <td>2.762411</td>\n",
       "      <td>21.918149</td>\n",
       "      <td>0.0</td>\n",
       "      <td>0.0</td>\n",
       "      <td>0.0</td>\n",
       "      <td>0.0</td>\n",
       "      <td>393.0</td>\n",
       "      <td>n</td>\n",
       "    </tr>\n",
       "    <tr>\n",
       "      <td>Borland-CA-PALMDALE ELEMENTARY SCHOOL DISTRICT</td>\n",
       "      <td>282.0</td>\n",
       "      <td>3.276596</td>\n",
       "      <td>7.710146</td>\n",
       "      <td>0.0</td>\n",
       "      <td>0.0</td>\n",
       "      <td>0.0</td>\n",
       "      <td>2.0</td>\n",
       "      <td>57.0</td>\n",
       "      <td>n</td>\n",
       "    </tr>\n",
       "    <tr>\n",
       "      <td>Maddox-MD-PRINCE GEORGE'S COUNTY PUBLIC SCHOOLS</td>\n",
       "      <td>241.0</td>\n",
       "      <td>72.443983</td>\n",
       "      <td>100.984683</td>\n",
       "      <td>0.0</td>\n",
       "      <td>0.0</td>\n",
       "      <td>23.0</td>\n",
       "      <td>115.0</td>\n",
       "      <td>560.0</td>\n",
       "      <td>n</td>\n",
       "    </tr>\n",
       "    <tr>\n",
       "      <td>Phillips-TX-DALLAS ISD</td>\n",
       "      <td>224.0</td>\n",
       "      <td>85.258929</td>\n",
       "      <td>118.546901</td>\n",
       "      <td>0.0</td>\n",
       "      <td>0.0</td>\n",
       "      <td>34.0</td>\n",
       "      <td>123.5</td>\n",
       "      <td>621.0</td>\n",
       "      <td>n</td>\n",
       "    </tr>\n",
       "    <tr>\n",
       "      <td>Phillips-TX-HOUSTON ISD</td>\n",
       "      <td>197.0</td>\n",
       "      <td>104.020305</td>\n",
       "      <td>160.343189</td>\n",
       "      <td>0.0</td>\n",
       "      <td>0.0</td>\n",
       "      <td>28.0</td>\n",
       "      <td>166.0</td>\n",
       "      <td>1120.0</td>\n",
       "      <td>y</td>\n",
       "    </tr>\n",
       "    <tr>\n",
       "      <td>...</td>\n",
       "      <td>...</td>\n",
       "      <td>...</td>\n",
       "      <td>...</td>\n",
       "      <td>...</td>\n",
       "      <td>...</td>\n",
       "      <td>...</td>\n",
       "      <td>...</td>\n",
       "      <td>...</td>\n",
       "      <td>...</td>\n",
       "    </tr>\n",
       "    <tr>\n",
       "      <td>Roman-FL-ST. JOHNS</td>\n",
       "      <td>1.0</td>\n",
       "      <td>272.000000</td>\n",
       "      <td>NaN</td>\n",
       "      <td>272.0</td>\n",
       "      <td>272.0</td>\n",
       "      <td>272.0</td>\n",
       "      <td>272.0</td>\n",
       "      <td>272.0</td>\n",
       "      <td>y</td>\n",
       "    </tr>\n",
       "    <tr>\n",
       "      <td>Maus-NE-GILTNER PUBLIC SCHOOLS</td>\n",
       "      <td>1.0</td>\n",
       "      <td>145.000000</td>\n",
       "      <td>NaN</td>\n",
       "      <td>145.0</td>\n",
       "      <td>145.0</td>\n",
       "      <td>145.0</td>\n",
       "      <td>145.0</td>\n",
       "      <td>145.0</td>\n",
       "      <td>y</td>\n",
       "    </tr>\n",
       "    <tr>\n",
       "      <td>Maddox-OH-BUCKEYE CENTRAL LOCAL</td>\n",
       "      <td>1.0</td>\n",
       "      <td>227.000000</td>\n",
       "      <td>NaN</td>\n",
       "      <td>227.0</td>\n",
       "      <td>227.0</td>\n",
       "      <td>227.0</td>\n",
       "      <td>227.0</td>\n",
       "      <td>227.0</td>\n",
       "      <td>y</td>\n",
       "    </tr>\n",
       "    <tr>\n",
       "      <td>Roman-NJ-ALPINE</td>\n",
       "      <td>1.0</td>\n",
       "      <td>134.000000</td>\n",
       "      <td>NaN</td>\n",
       "      <td>134.0</td>\n",
       "      <td>134.0</td>\n",
       "      <td>134.0</td>\n",
       "      <td>134.0</td>\n",
       "      <td>134.0</td>\n",
       "      <td>y</td>\n",
       "    </tr>\n",
       "    <tr>\n",
       "      <td>Maus-WI-MUKWONAGO SCHOOL DISTRICT</td>\n",
       "      <td>1.0</td>\n",
       "      <td>44.000000</td>\n",
       "      <td>NaN</td>\n",
       "      <td>44.0</td>\n",
       "      <td>44.0</td>\n",
       "      <td>44.0</td>\n",
       "      <td>44.0</td>\n",
       "      <td>44.0</td>\n",
       "      <td>n</td>\n",
       "    </tr>\n",
       "  </tbody>\n",
       "</table>\n",
       "<p>1806 rows × 9 columns</p>\n",
       "</div>"
      ],
      "text/plain": [
       "                                                   count        mean  \\\n",
       "distr_st_rep                                                           \n",
       "Smith-FL-Miami-Dade County Public School District  564.0    2.762411   \n",
       "Borland-CA-PALMDALE ELEMENTARY SCHOOL DISTRICT     282.0    3.276596   \n",
       "Maddox-MD-PRINCE GEORGE'S COUNTY PUBLIC SCHOOLS    241.0   72.443983   \n",
       "Phillips-TX-DALLAS ISD                             224.0   85.258929   \n",
       "Phillips-TX-HOUSTON ISD                            197.0  104.020305   \n",
       "...                                                  ...         ...   \n",
       "Roman-FL-ST. JOHNS                                   1.0  272.000000   \n",
       "Maus-NE-GILTNER PUBLIC SCHOOLS                       1.0  145.000000   \n",
       "Maddox-OH-BUCKEYE CENTRAL LOCAL                      1.0  227.000000   \n",
       "Roman-NJ-ALPINE                                      1.0  134.000000   \n",
       "Maus-WI-MUKWONAGO SCHOOL DISTRICT                    1.0   44.000000   \n",
       "\n",
       "                                                          std    min    25%  \\\n",
       "distr_st_rep                                                                  \n",
       "Smith-FL-Miami-Dade County Public School District   21.918149    0.0    0.0   \n",
       "Borland-CA-PALMDALE ELEMENTARY SCHOOL DISTRICT       7.710146    0.0    0.0   \n",
       "Maddox-MD-PRINCE GEORGE'S COUNTY PUBLIC SCHOOLS    100.984683    0.0    0.0   \n",
       "Phillips-TX-DALLAS ISD                             118.546901    0.0    0.0   \n",
       "Phillips-TX-HOUSTON ISD                            160.343189    0.0    0.0   \n",
       "...                                                       ...    ...    ...   \n",
       "Roman-FL-ST. JOHNS                                        NaN  272.0  272.0   \n",
       "Maus-NE-GILTNER PUBLIC SCHOOLS                            NaN  145.0  145.0   \n",
       "Maddox-OH-BUCKEYE CENTRAL LOCAL                           NaN  227.0  227.0   \n",
       "Roman-NJ-ALPINE                                           NaN  134.0  134.0   \n",
       "Maus-WI-MUKWONAGO SCHOOL DISTRICT                         NaN   44.0   44.0   \n",
       "\n",
       "                                                     50%    75%     max  \\\n",
       "distr_st_rep                                                              \n",
       "Smith-FL-Miami-Dade County Public School District    0.0    0.0   393.0   \n",
       "Borland-CA-PALMDALE ELEMENTARY SCHOOL DISTRICT       0.0    2.0    57.0   \n",
       "Maddox-MD-PRINCE GEORGE'S COUNTY PUBLIC SCHOOLS     23.0  115.0   560.0   \n",
       "Phillips-TX-DALLAS ISD                              34.0  123.5   621.0   \n",
       "Phillips-TX-HOUSTON ISD                             28.0  166.0  1120.0   \n",
       "...                                                  ...    ...     ...   \n",
       "Roman-FL-ST. JOHNS                                 272.0  272.0   272.0   \n",
       "Maus-NE-GILTNER PUBLIC SCHOOLS                     145.0  145.0   145.0   \n",
       "Maddox-OH-BUCKEYE CENTRAL LOCAL                    227.0  227.0   227.0   \n",
       "Roman-NJ-ALPINE                                    134.0  134.0   134.0   \n",
       "Maus-WI-MUKWONAGO SCHOOL DISTRICT                   44.0   44.0    44.0   \n",
       "\n",
       "                                                  above_avg  \n",
       "distr_st_rep                                                 \n",
       "Smith-FL-Miami-Dade County Public School District         n  \n",
       "Borland-CA-PALMDALE ELEMENTARY SCHOOL DISTRICT            n  \n",
       "Maddox-MD-PRINCE GEORGE'S COUNTY PUBLIC SCHOOLS           n  \n",
       "Phillips-TX-DALLAS ISD                                    n  \n",
       "Phillips-TX-HOUSTON ISD                                   y  \n",
       "...                                                     ...  \n",
       "Roman-FL-ST. JOHNS                                        y  \n",
       "Maus-NE-GILTNER PUBLIC SCHOOLS                            y  \n",
       "Maddox-OH-BUCKEYE CENTRAL LOCAL                           y  \n",
       "Roman-NJ-ALPINE                                           y  \n",
       "Maus-WI-MUKWONAGO SCHOOL DISTRICT                         n  \n",
       "\n",
       "[1806 rows x 9 columns]"
      ]
     },
     "execution_count": 79,
     "metadata": {},
     "output_type": "execute_result"
    }
   ],
   "source": [
    "sept_stats"
   ]
  },
  {
   "cell_type": "code",
   "execution_count": 80,
   "metadata": {
    "scrolled": false
   },
   "outputs": [
    {
     "data": {
      "image/png": "[encoded data removed]",
      "text/plain": [
       "<Figure size 1008x576 with 1 Axes>"
      ]
     },
     "metadata": {
      "needs_background": "light"
     },
     "output_type": "display_data"
    }
   ],
   "source": [
    "fig = plt.subplots(figsize = (14,8))\n",
    "_ = plt.hist(sept_stats['50%'], bins=50)\n",
    "_ = plt.xlabel('Median usage by district', fontsize=16)\n",
    "_ = plt.ylabel('Number of districts', fontsize=16)\n",
    "_ = plt.xlim(-2,700)\n",
    "_ = plt.title('Median usage by district - September', fontsize=18)"
   ]
  },
  {
   "cell_type": "code",
   "execution_count": 81,
   "metadata": {},
   "outputs": [],
   "source": [
    "count_y = len(sept_stats[sept_stats.above_avg == 'y'])\n",
    "count_n = len(sept_stats[sept_stats.above_avg == 'n'])"
   ]
  },
  {
   "cell_type": "code",
   "execution_count": 82,
   "metadata": {},
   "outputs": [
    {
     "data": {
      "image/png": "[encoded data removed]",
      "text/plain": [
       "<Figure size 1008x576 with 1 Axes>"
      ]
     },
     "metadata": {},
     "output_type": "display_data"
    }
   ],
   "source": [
    "avg_cnts = [count_y, count_n]\n",
    "labels = 'Above', 'Below'\n",
    "explode = (0.04, 0)\n",
    "\n",
    "fig = plt.subplots(figsize = (14,8))\n",
    "_ = plt.pie(avg_cnts, explode=explode, labels=labels)\n",
    "#_ = plt.xlabel('Median usage by district', fontsize=16)\n",
    "#_ = plt.ylabel('Number of districts', fontsize=16)\n",
    "_ = plt.title('Districts with above average usage - September', fontsize=18)"
   ]
  },
  {
   "cell_type": "markdown",
   "metadata": {},
   "source": [
    "#### Districts not above average"
   ]
  },
  {
   "cell_type": "markdown",
   "metadata": {},
   "source": [
    "Filtering districts based on their mean usage and focusing on the ones that are below the cumulative average."
   ]
  },
  {
   "cell_type": "code",
   "execution_count": 92,
   "metadata": {},
   "outputs": [
    {
     "data": {
      "text/plain": [
       "831"
      ]
     },
     "execution_count": 92,
     "metadata": {},
     "output_type": "execute_result"
    }
   ],
   "source": [
    "below = sept_stats[sept_stats.above_avg == 'n']\n",
    "len(below)"
   ]
  },
  {
   "cell_type": "code",
   "execution_count": 90,
   "metadata": {},
   "outputs": [],
   "source": [
    "#below = below[below['count'] > 0.0].sort_index()"
   ]
  },
  {
   "cell_type": "code",
   "execution_count": 93,
   "metadata": {},
   "outputs": [],
   "source": [
    "wr = pd.ExcelWriter('usage_by_district.xlsx')\n",
    "\n",
    "below.to_excel(wr, sheet_name='Below average districts')\n",
    "sept_stats.to_excel(wr, sheet_name='Regular usage by district')\n",
    "\n",
    "wr.save()"
   ]
  },
  {
   "cell_type": "markdown",
   "metadata": {},
   "source": [
    "<b>Max user</b>"
   ]
  },
  {
   "cell_type": "code",
   "execution_count": 98,
   "metadata": {},
   "outputs": [
    {
     "data": {
      "text/html": [
       "<div>\n",
       "<style scoped>\n",
       "    .dataframe tbody tr th:only-of-type {\n",
       "        vertical-align: middle;\n",
       "    }\n",
       "\n",
       "    .dataframe tbody tr th {\n",
       "        vertical-align: top;\n",
       "    }\n",
       "\n",
       "    .dataframe thead th {\n",
       "        text-align: right;\n",
       "    }\n",
       "</style>\n",
       "<table border=\"1\" class=\"dataframe\">\n",
       "  <thead>\n",
       "    <tr style=\"text-align: right;\">\n",
       "      <th></th>\n",
       "      <th>user_id</th>\n",
       "      <th>username</th>\n",
       "      <th>people_id</th>\n",
       "      <th>person</th>\n",
       "      <th>email</th>\n",
       "      <th>school(s)</th>\n",
       "      <th>daysLoggedIn</th>\n",
       "      <th>weekdaysLoggedIn</th>\n",
       "      <th>reg_usage</th>\n",
       "      <th>other_usage</th>\n",
       "      <th>license_district</th>\n",
       "      <th>order_district</th>\n",
       "      <th>district_name</th>\n",
       "      <th>state</th>\n",
       "      <th>rep</th>\n",
       "      <th>order(s)</th>\n",
       "      <th>products</th>\n",
       "      <th>distr_st_rep</th>\n",
       "    </tr>\n",
       "  </thead>\n",
       "  <tbody>\n",
       "    <tr>\n",
       "      <td>8165</td>\n",
       "      <td>288290</td>\n",
       "      <td>RYANBAN</td>\n",
       "      <td>35211</td>\n",
       "      <td>Tanuja Gomes</td>\n",
       "      <td>piyushp@fsm.net.in</td>\n",
       "      <td>Furtados School of Music</td>\n",
       "      <td>29</td>\n",
       "      <td>22</td>\n",
       "      <td>2630</td>\n",
       "      <td>0</td>\n",
       "      <td>1000000046</td>\n",
       "      <td>1.000000e+09</td>\n",
       "      <td>INTERNATIONAL PUBLIC SCHOOLS</td>\n",
       "      <td>XX</td>\n",
       "      <td>Smith</td>\n",
       "      <td>679712167</td>\n",
       "      <td>QK5-01-01b,QGK-05-01b,QGK-03-01d</td>\n",
       "      <td>Smith-XX-INTERNATIONAL PUBLIC SCHOOLS</td>\n",
       "    </tr>\n",
       "  </tbody>\n",
       "</table>\n",
       "</div>"
      ],
      "text/plain": [
       "      user_id username  people_id        person               email  \\\n",
       "8165   288290  RYANBAN      35211  Tanuja Gomes  piyushp@fsm.net.in   \n",
       "\n",
       "                     school(s)  daysLoggedIn  weekdaysLoggedIn  reg_usage  \\\n",
       "8165  Furtados School of Music            29                22       2630   \n",
       "\n",
       "      other_usage  license_district  order_district  \\\n",
       "8165            0        1000000046    1.000000e+09   \n",
       "\n",
       "                     district_name state    rep   order(s)  \\\n",
       "8165  INTERNATIONAL PUBLIC SCHOOLS    XX  Smith  679712167   \n",
       "\n",
       "                              products                           distr_st_rep  \n",
       "8165  QK5-01-01b,QGK-05-01b,QGK-03-01d  Smith-XX-INTERNATIONAL PUBLIC SCHOOLS  "
      ]
     },
     "execution_count": 98,
     "metadata": {},
     "output_type": "execute_result"
    }
   ],
   "source": [
    "import numpy as np\n",
    "\n",
    "september[september.reg_usage == np.max(september.reg_usage)]"
   ]
  },
  {
   "cell_type": "markdown",
   "metadata": {},
   "source": [
    "### Percent of users with above average usage"
   ]
  },
  {
   "cell_type": "code",
   "execution_count": null,
   "metadata": {},
   "outputs": [],
   "source": []
  }
 ],
 "metadata": {
  "kernelspec": {
   "display_name": "usage_analysis",
   "language": "python",
   "name": "usage_analysis"
  },
  "language_info": {
   "codemirror_mode": {
    "name": "ipython",
    "version": 3
   },
   "file_extension": ".py",
   "mimetype": "text/x-python",
   "name": "python",
   "nbconvert_exporter": "python",
   "pygments_lexer": "ipython3",
   "version": "3.7.4"
  }
 },
 "nbformat": 4,
 "nbformat_minor": 2
}
